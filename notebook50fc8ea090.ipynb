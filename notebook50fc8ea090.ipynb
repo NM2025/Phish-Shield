{
 "cells": [
  {
   "cell_type": "code",
   "execution_count": 1,
   "id": "7e6cef35",
   "metadata": {
    "_cell_guid": "b1076dfc-b9ad-4769-8c92-a6c4dae69d19",
    "_uuid": "8f2839f25d086af736a60e9eeb907d3b93b6e0e5",
    "execution": {
     "iopub.execute_input": "2023-10-27T13:21:39.579886Z",
     "iopub.status.busy": "2023-10-27T13:21:39.579455Z",
     "iopub.status.idle": "2023-10-27T13:21:39.883930Z",
     "shell.execute_reply": "2023-10-27T13:21:39.883202Z"
    },
    "papermill": {
     "duration": 0.31491,
     "end_time": "2023-10-27T13:21:39.885802",
     "exception": false,
     "start_time": "2023-10-27T13:21:39.570892",
     "status": "completed"
    },
    "tags": []
   },
   "outputs": [
    {
     "name": "stdout",
     "output_type": "stream",
     "text": [
      "/kaggle/input/phishing-site-urls/phishing_site_urls.csv\n"
     ]
    }
   ],
   "source": [
    "# This Python 3 environment comes with many helpful analytics libraries installed\n",
    "# It is defined by the kaggle/python Docker image: https://github.com/kaggle/docker-python\n",
    "# For example, here's several helpful packages to load\n",
    "\n",
    "import numpy as np # linear algebra\n",
    "import pandas as pd # data processing, CSV file I/O (e.g. pd.read_csv)\n",
    "\n",
    "# Input data files are available in the read-only \"../input/\" directory\n",
    "# For example, running this (by clicking run or pressing Shift+Enter) will list all files under the input directory\n",
    "\n",
    "import os\n",
    "for dirname, _, filenames in os.walk('/kaggle/input'):\n",
    "    for filename in filenames:\n",
    "        print(os.path.join(dirname, filename))\n",
    "\n",
    "# You can write up to 20GB to the current directory (/kaggle/working/) that gets preserved as output when you create a version using \"Save & Run All\" \n",
    "# You can also write temporary files to /kaggle/temp/, but they won't be saved outside of the current session"
   ]
  },
  {
   "cell_type": "code",
   "execution_count": 2,
   "id": "75964cad",
   "metadata": {
    "execution": {
     "iopub.execute_input": "2023-10-27T13:21:39.896524Z",
     "iopub.status.busy": "2023-10-27T13:21:39.895612Z",
     "iopub.status.idle": "2023-10-27T13:21:41.158764Z",
     "shell.execute_reply": "2023-10-27T13:21:41.157733Z"
    },
    "papermill": {
     "duration": 1.270959,
     "end_time": "2023-10-27T13:21:41.161121",
     "exception": false,
     "start_time": "2023-10-27T13:21:39.890162",
     "status": "completed"
    },
    "tags": []
   },
   "outputs": [],
   "source": [
    "import pandas as pd\n",
    "from sklearn.feature_extraction.text import CountVectorizer\n",
    "from sklearn.model_selection import train_test_split\n",
    "from sklearn.naive_bayes import MultinomialNB\n",
    "from sklearn.metrics import confusion_matrix\n",
    "import pickle\n"
   ]
  },
  {
   "cell_type": "code",
   "execution_count": 3,
   "id": "8e89b4df",
   "metadata": {
    "execution": {
     "iopub.execute_input": "2023-10-27T13:21:41.171122Z",
     "iopub.status.busy": "2023-10-27T13:21:41.170767Z",
     "iopub.status.idle": "2023-10-27T13:21:42.076425Z",
     "shell.execute_reply": "2023-10-27T13:21:42.075329Z"
    },
    "papermill": {
     "duration": 0.913012,
     "end_time": "2023-10-27T13:21:42.078623",
     "exception": false,
     "start_time": "2023-10-27T13:21:41.165611",
     "status": "completed"
    },
    "tags": []
   },
   "outputs": [],
   "source": [
    "df = pd.read_csv('/kaggle/input/phishing-site-urls/phishing_site_urls.csv')\n"
   ]
  },
  {
   "cell_type": "code",
   "execution_count": 4,
   "id": "374940c6",
   "metadata": {
    "execution": {
     "iopub.execute_input": "2023-10-27T13:21:42.088634Z",
     "iopub.status.busy": "2023-10-27T13:21:42.088324Z",
     "iopub.status.idle": "2023-10-27T13:21:42.107739Z",
     "shell.execute_reply": "2023-10-27T13:21:42.106421Z"
    },
    "papermill": {
     "duration": 0.027032,
     "end_time": "2023-10-27T13:21:42.110043",
     "exception": false,
     "start_time": "2023-10-27T13:21:42.083011",
     "status": "completed"
    },
    "tags": []
   },
   "outputs": [
    {
     "data": {
      "text/html": [
       "<div>\n",
       "<style scoped>\n",
       "    .dataframe tbody tr th:only-of-type {\n",
       "        vertical-align: middle;\n",
       "    }\n",
       "\n",
       "    .dataframe tbody tr th {\n",
       "        vertical-align: top;\n",
       "    }\n",
       "\n",
       "    .dataframe thead th {\n",
       "        text-align: right;\n",
       "    }\n",
       "</style>\n",
       "<table border=\"1\" class=\"dataframe\">\n",
       "  <thead>\n",
       "    <tr style=\"text-align: right;\">\n",
       "      <th></th>\n",
       "      <th>URL</th>\n",
       "      <th>Label</th>\n",
       "    </tr>\n",
       "  </thead>\n",
       "  <tbody>\n",
       "    <tr>\n",
       "      <th>0</th>\n",
       "      <td>nobell.it/70ffb52d079109dca5664cce6f317373782/...</td>\n",
       "      <td>bad</td>\n",
       "    </tr>\n",
       "    <tr>\n",
       "      <th>1</th>\n",
       "      <td>www.dghjdgf.com/paypal.co.uk/cycgi-bin/webscrc...</td>\n",
       "      <td>bad</td>\n",
       "    </tr>\n",
       "    <tr>\n",
       "      <th>2</th>\n",
       "      <td>serviciosbys.com/paypal.cgi.bin.get-into.herf....</td>\n",
       "      <td>bad</td>\n",
       "    </tr>\n",
       "    <tr>\n",
       "      <th>3</th>\n",
       "      <td>mail.printakid.com/www.online.americanexpress....</td>\n",
       "      <td>bad</td>\n",
       "    </tr>\n",
       "    <tr>\n",
       "      <th>4</th>\n",
       "      <td>thewhiskeydregs.com/wp-content/themes/widescre...</td>\n",
       "      <td>bad</td>\n",
       "    </tr>\n",
       "  </tbody>\n",
       "</table>\n",
       "</div>"
      ],
      "text/plain": [
       "                                                 URL Label\n",
       "0  nobell.it/70ffb52d079109dca5664cce6f317373782/...   bad\n",
       "1  www.dghjdgf.com/paypal.co.uk/cycgi-bin/webscrc...   bad\n",
       "2  serviciosbys.com/paypal.cgi.bin.get-into.herf....   bad\n",
       "3  mail.printakid.com/www.online.americanexpress....   bad\n",
       "4  thewhiskeydregs.com/wp-content/themes/widescre...   bad"
      ]
     },
     "execution_count": 4,
     "metadata": {},
     "output_type": "execute_result"
    }
   ],
   "source": [
    "df.head()"
   ]
  },
  {
   "cell_type": "code",
   "execution_count": 5,
   "id": "389c0acf",
   "metadata": {
    "execution": {
     "iopub.execute_input": "2023-10-27T13:21:42.121630Z",
     "iopub.status.busy": "2023-10-27T13:21:42.120128Z",
     "iopub.status.idle": "2023-10-27T13:21:42.129437Z",
     "shell.execute_reply": "2023-10-27T13:21:42.128543Z"
    },
    "papermill": {
     "duration": 0.016538,
     "end_time": "2023-10-27T13:21:42.131334",
     "exception": false,
     "start_time": "2023-10-27T13:21:42.114796",
     "status": "completed"
    },
    "tags": []
   },
   "outputs": [
    {
     "data": {
      "text/html": [
       "<div>\n",
       "<style scoped>\n",
       "    .dataframe tbody tr th:only-of-type {\n",
       "        vertical-align: middle;\n",
       "    }\n",
       "\n",
       "    .dataframe tbody tr th {\n",
       "        vertical-align: top;\n",
       "    }\n",
       "\n",
       "    .dataframe thead th {\n",
       "        text-align: right;\n",
       "    }\n",
       "</style>\n",
       "<table border=\"1\" class=\"dataframe\">\n",
       "  <thead>\n",
       "    <tr style=\"text-align: right;\">\n",
       "      <th></th>\n",
       "      <th>URL</th>\n",
       "      <th>Label</th>\n",
       "    </tr>\n",
       "  </thead>\n",
       "  <tbody>\n",
       "    <tr>\n",
       "      <th>549341</th>\n",
       "      <td>23.227.196.215/</td>\n",
       "      <td>bad</td>\n",
       "    </tr>\n",
       "    <tr>\n",
       "      <th>549342</th>\n",
       "      <td>apple-checker.org/</td>\n",
       "      <td>bad</td>\n",
       "    </tr>\n",
       "    <tr>\n",
       "      <th>549343</th>\n",
       "      <td>apple-iclods.org/</td>\n",
       "      <td>bad</td>\n",
       "    </tr>\n",
       "    <tr>\n",
       "      <th>549344</th>\n",
       "      <td>apple-uptoday.org/</td>\n",
       "      <td>bad</td>\n",
       "    </tr>\n",
       "    <tr>\n",
       "      <th>549345</th>\n",
       "      <td>apple-search.info</td>\n",
       "      <td>bad</td>\n",
       "    </tr>\n",
       "  </tbody>\n",
       "</table>\n",
       "</div>"
      ],
      "text/plain": [
       "                       URL Label\n",
       "549341     23.227.196.215/   bad\n",
       "549342  apple-checker.org/   bad\n",
       "549343   apple-iclods.org/   bad\n",
       "549344  apple-uptoday.org/   bad\n",
       "549345   apple-search.info   bad"
      ]
     },
     "execution_count": 5,
     "metadata": {},
     "output_type": "execute_result"
    }
   ],
   "source": [
    " df.tail()"
   ]
  },
  {
   "cell_type": "code",
   "execution_count": 6,
   "id": "12c2b0dd",
   "metadata": {
    "execution": {
     "iopub.execute_input": "2023-10-27T13:21:42.142608Z",
     "iopub.status.busy": "2023-10-27T13:21:42.142212Z",
     "iopub.status.idle": "2023-10-27T13:21:42.205773Z",
     "shell.execute_reply": "2023-10-27T13:21:42.204240Z"
    },
    "papermill": {
     "duration": 0.071225,
     "end_time": "2023-10-27T13:21:42.207851",
     "exception": false,
     "start_time": "2023-10-27T13:21:42.136626",
     "status": "completed"
    },
    "tags": []
   },
   "outputs": [
    {
     "name": "stdout",
     "output_type": "stream",
     "text": [
      "<class 'pandas.core.frame.DataFrame'>\n",
      "RangeIndex: 549346 entries, 0 to 549345\n",
      "Data columns (total 2 columns):\n",
      " #   Column  Non-Null Count   Dtype \n",
      "---  ------  --------------   ----- \n",
      " 0   URL     549346 non-null  object\n",
      " 1   Label   549346 non-null  object\n",
      "dtypes: object(2)\n",
      "memory usage: 8.4+ MB\n"
     ]
    }
   ],
   "source": [
    " df.info()\n"
   ]
  },
  {
   "cell_type": "code",
   "execution_count": 7,
   "id": "279fbc24",
   "metadata": {
    "execution": {
     "iopub.execute_input": "2023-10-27T13:21:42.222796Z",
     "iopub.status.busy": "2023-10-27T13:21:42.221118Z",
     "iopub.status.idle": "2023-10-27T13:21:42.271511Z",
     "shell.execute_reply": "2023-10-27T13:21:42.270522Z"
    },
    "papermill": {
     "duration": 0.06008,
     "end_time": "2023-10-27T13:21:42.273545",
     "exception": false,
     "start_time": "2023-10-27T13:21:42.213465",
     "status": "completed"
    },
    "tags": []
   },
   "outputs": [
    {
     "data": {
      "text/plain": [
       "URL      0\n",
       "Label    0\n",
       "dtype: int64"
      ]
     },
     "execution_count": 7,
     "metadata": {},
     "output_type": "execute_result"
    }
   ],
   "source": [
    "df.isnull().sum()"
   ]
  },
  {
   "cell_type": "code",
   "execution_count": 8,
   "id": "dc1168b8",
   "metadata": {
    "execution": {
     "iopub.execute_input": "2023-10-27T13:21:42.285673Z",
     "iopub.status.busy": "2023-10-27T13:21:42.284504Z",
     "iopub.status.idle": "2023-10-27T13:21:42.316978Z",
     "shell.execute_reply": "2023-10-27T13:21:42.316051Z"
    },
    "papermill": {
     "duration": 0.041278,
     "end_time": "2023-10-27T13:21:42.319873",
     "exception": false,
     "start_time": "2023-10-27T13:21:42.278595",
     "status": "completed"
    },
    "tags": []
   },
   "outputs": [],
   "source": [
    "label_counts = pd.DataFrame(df.Label.value_counts())"
   ]
  },
  {
   "cell_type": "code",
   "execution_count": 9,
   "id": "4df95c53",
   "metadata": {
    "execution": {
     "iopub.execute_input": "2023-10-27T13:21:42.334476Z",
     "iopub.status.busy": "2023-10-27T13:21:42.334119Z",
     "iopub.status.idle": "2023-10-27T13:21:43.083576Z",
     "shell.execute_reply": "2023-10-27T13:21:43.082523Z"
    },
    "papermill": {
     "duration": 0.759616,
     "end_time": "2023-10-27T13:21:43.085976",
     "exception": false,
     "start_time": "2023-10-27T13:21:42.326360",
     "status": "completed"
    },
    "tags": []
   },
   "outputs": [],
   "source": [
    "import matplotlib.pyplot as plt\n",
    "%matplotlib inline\n",
    "import plotly.express as px"
   ]
  },
  {
   "cell_type": "code",
   "execution_count": null,
   "id": "afcd4650",
   "metadata": {
    "papermill": {
     "duration": 0.004575,
     "end_time": "2023-10-27T13:21:43.095443",
     "exception": false,
     "start_time": "2023-10-27T13:21:43.090868",
     "status": "completed"
    },
    "tags": []
   },
   "outputs": [],
   "source": []
  },
  {
   "cell_type": "code",
   "execution_count": 10,
   "id": "1870f2c6",
   "metadata": {
    "execution": {
     "iopub.execute_input": "2023-10-27T13:21:43.106442Z",
     "iopub.status.busy": "2023-10-27T13:21:43.105953Z",
     "iopub.status.idle": "2023-10-27T13:21:43.201799Z",
     "shell.execute_reply": "2023-10-27T13:21:43.200495Z"
    },
    "papermill": {
     "duration": 0.104238,
     "end_time": "2023-10-27T13:21:43.204364",
     "exception": false,
     "start_time": "2023-10-27T13:21:43.100126",
     "status": "completed"
    },
    "tags": []
   },
   "outputs": [],
   "source": [
    "bad_sites = df[df.Label == 'bad']\n",
    "good_sites = df[df.Label == 'good']"
   ]
  },
  {
   "cell_type": "code",
   "execution_count": 11,
   "id": "102f36ce",
   "metadata": {
    "execution": {
     "iopub.execute_input": "2023-10-27T13:21:43.215401Z",
     "iopub.status.busy": "2023-10-27T13:21:43.215043Z",
     "iopub.status.idle": "2023-10-27T13:21:43.223971Z",
     "shell.execute_reply": "2023-10-27T13:21:43.222590Z"
    },
    "papermill": {
     "duration": 0.016728,
     "end_time": "2023-10-27T13:21:43.226006",
     "exception": false,
     "start_time": "2023-10-27T13:21:43.209278",
     "status": "completed"
    },
    "tags": []
   },
   "outputs": [
    {
     "data": {
      "text/html": [
       "<div>\n",
       "<style scoped>\n",
       "    .dataframe tbody tr th:only-of-type {\n",
       "        vertical-align: middle;\n",
       "    }\n",
       "\n",
       "    .dataframe tbody tr th {\n",
       "        vertical-align: top;\n",
       "    }\n",
       "\n",
       "    .dataframe thead th {\n",
       "        text-align: right;\n",
       "    }\n",
       "</style>\n",
       "<table border=\"1\" class=\"dataframe\">\n",
       "  <thead>\n",
       "    <tr style=\"text-align: right;\">\n",
       "      <th></th>\n",
       "      <th>URL</th>\n",
       "      <th>Label</th>\n",
       "    </tr>\n",
       "  </thead>\n",
       "  <tbody>\n",
       "    <tr>\n",
       "      <th>0</th>\n",
       "      <td>nobell.it/70ffb52d079109dca5664cce6f317373782/...</td>\n",
       "      <td>bad</td>\n",
       "    </tr>\n",
       "    <tr>\n",
       "      <th>1</th>\n",
       "      <td>www.dghjdgf.com/paypal.co.uk/cycgi-bin/webscrc...</td>\n",
       "      <td>bad</td>\n",
       "    </tr>\n",
       "    <tr>\n",
       "      <th>2</th>\n",
       "      <td>serviciosbys.com/paypal.cgi.bin.get-into.herf....</td>\n",
       "      <td>bad</td>\n",
       "    </tr>\n",
       "    <tr>\n",
       "      <th>3</th>\n",
       "      <td>mail.printakid.com/www.online.americanexpress....</td>\n",
       "      <td>bad</td>\n",
       "    </tr>\n",
       "    <tr>\n",
       "      <th>4</th>\n",
       "      <td>thewhiskeydregs.com/wp-content/themes/widescre...</td>\n",
       "      <td>bad</td>\n",
       "    </tr>\n",
       "  </tbody>\n",
       "</table>\n",
       "</div>"
      ],
      "text/plain": [
       "                                                 URL Label\n",
       "0  nobell.it/70ffb52d079109dca5664cce6f317373782/...   bad\n",
       "1  www.dghjdgf.com/paypal.co.uk/cycgi-bin/webscrc...   bad\n",
       "2  serviciosbys.com/paypal.cgi.bin.get-into.herf....   bad\n",
       "3  mail.printakid.com/www.online.americanexpress....   bad\n",
       "4  thewhiskeydregs.com/wp-content/themes/widescre...   bad"
      ]
     },
     "execution_count": 11,
     "metadata": {},
     "output_type": "execute_result"
    }
   ],
   "source": [
    "bad_sites.head()\n"
   ]
  },
  {
   "cell_type": "code",
   "execution_count": 12,
   "id": "489edf79",
   "metadata": {
    "execution": {
     "iopub.execute_input": "2023-10-27T13:21:43.237656Z",
     "iopub.status.busy": "2023-10-27T13:21:43.237312Z",
     "iopub.status.idle": "2023-10-27T13:21:43.271413Z",
     "shell.execute_reply": "2023-10-27T13:21:43.270663Z"
    },
    "papermill": {
     "duration": 0.042808,
     "end_time": "2023-10-27T13:21:43.273739",
     "exception": false,
     "start_time": "2023-10-27T13:21:43.230931",
     "status": "completed"
    },
    "tags": []
   },
   "outputs": [],
   "source": [
    "df['Label'] = df['Label'].map({'good': 0, 'bad': 1})\n"
   ]
  },
  {
   "cell_type": "code",
   "execution_count": 13,
   "id": "b4dc941b",
   "metadata": {
    "execution": {
     "iopub.execute_input": "2023-10-27T13:21:43.285655Z",
     "iopub.status.busy": "2023-10-27T13:21:43.284653Z",
     "iopub.status.idle": "2023-10-27T13:21:43.376374Z",
     "shell.execute_reply": "2023-10-27T13:21:43.375241Z"
    },
    "papermill": {
     "duration": 0.099859,
     "end_time": "2023-10-27T13:21:43.378721",
     "exception": false,
     "start_time": "2023-10-27T13:21:43.278862",
     "status": "completed"
    },
    "tags": []
   },
   "outputs": [],
   "source": [
    "X_train, X_test, y_train, y_test = train_test_split(df['URL'], df['Label'], test_size=0.2, random_state=42)\n"
   ]
  },
  {
   "cell_type": "code",
   "execution_count": 14,
   "id": "2aee78f1",
   "metadata": {
    "execution": {
     "iopub.execute_input": "2023-10-27T13:21:43.390162Z",
     "iopub.status.busy": "2023-10-27T13:21:43.389780Z",
     "iopub.status.idle": "2023-10-27T13:21:49.575105Z",
     "shell.execute_reply": "2023-10-27T13:21:49.574346Z"
    },
    "papermill": {
     "duration": 6.193552,
     "end_time": "2023-10-27T13:21:49.577449",
     "exception": false,
     "start_time": "2023-10-27T13:21:43.383897",
     "status": "completed"
    },
    "tags": []
   },
   "outputs": [],
   "source": [
    "vectorizer = CountVectorizer()\n",
    "X_train_vectorized = vectorizer.fit_transform(X_train)\n",
    "X_test_vectorized = vectorizer.transform(X_test)"
   ]
  },
  {
   "cell_type": "code",
   "execution_count": 15,
   "id": "402493e8",
   "metadata": {
    "execution": {
     "iopub.execute_input": "2023-10-27T13:21:49.588881Z",
     "iopub.status.busy": "2023-10-27T13:21:49.588513Z",
     "iopub.status.idle": "2023-10-27T13:21:49.697542Z",
     "shell.execute_reply": "2023-10-27T13:21:49.696342Z"
    },
    "papermill": {
     "duration": 0.117077,
     "end_time": "2023-10-27T13:21:49.699601",
     "exception": false,
     "start_time": "2023-10-27T13:21:49.582524",
     "status": "completed"
    },
    "tags": []
   },
   "outputs": [
    {
     "data": {
      "text/html": [
       "<style>#sk-container-id-1 {color: black;background-color: white;}#sk-container-id-1 pre{padding: 0;}#sk-container-id-1 div.sk-toggleable {background-color: white;}#sk-container-id-1 label.sk-toggleable__label {cursor: pointer;display: block;width: 100%;margin-bottom: 0;padding: 0.3em;box-sizing: border-box;text-align: center;}#sk-container-id-1 label.sk-toggleable__label-arrow:before {content: \"▸\";float: left;margin-right: 0.25em;color: #696969;}#sk-container-id-1 label.sk-toggleable__label-arrow:hover:before {color: black;}#sk-container-id-1 div.sk-estimator:hover label.sk-toggleable__label-arrow:before {color: black;}#sk-container-id-1 div.sk-toggleable__content {max-height: 0;max-width: 0;overflow: hidden;text-align: left;background-color: #f0f8ff;}#sk-container-id-1 div.sk-toggleable__content pre {margin: 0.2em;color: black;border-radius: 0.25em;background-color: #f0f8ff;}#sk-container-id-1 input.sk-toggleable__control:checked~div.sk-toggleable__content {max-height: 200px;max-width: 100%;overflow: auto;}#sk-container-id-1 input.sk-toggleable__control:checked~label.sk-toggleable__label-arrow:before {content: \"▾\";}#sk-container-id-1 div.sk-estimator input.sk-toggleable__control:checked~label.sk-toggleable__label {background-color: #d4ebff;}#sk-container-id-1 div.sk-label input.sk-toggleable__control:checked~label.sk-toggleable__label {background-color: #d4ebff;}#sk-container-id-1 input.sk-hidden--visually {border: 0;clip: rect(1px 1px 1px 1px);clip: rect(1px, 1px, 1px, 1px);height: 1px;margin: -1px;overflow: hidden;padding: 0;position: absolute;width: 1px;}#sk-container-id-1 div.sk-estimator {font-family: monospace;background-color: #f0f8ff;border: 1px dotted black;border-radius: 0.25em;box-sizing: border-box;margin-bottom: 0.5em;}#sk-container-id-1 div.sk-estimator:hover {background-color: #d4ebff;}#sk-container-id-1 div.sk-parallel-item::after {content: \"\";width: 100%;border-bottom: 1px solid gray;flex-grow: 1;}#sk-container-id-1 div.sk-label:hover label.sk-toggleable__label {background-color: #d4ebff;}#sk-container-id-1 div.sk-serial::before {content: \"\";position: absolute;border-left: 1px solid gray;box-sizing: border-box;top: 0;bottom: 0;left: 50%;z-index: 0;}#sk-container-id-1 div.sk-serial {display: flex;flex-direction: column;align-items: center;background-color: white;padding-right: 0.2em;padding-left: 0.2em;position: relative;}#sk-container-id-1 div.sk-item {position: relative;z-index: 1;}#sk-container-id-1 div.sk-parallel {display: flex;align-items: stretch;justify-content: center;background-color: white;position: relative;}#sk-container-id-1 div.sk-item::before, #sk-container-id-1 div.sk-parallel-item::before {content: \"\";position: absolute;border-left: 1px solid gray;box-sizing: border-box;top: 0;bottom: 0;left: 50%;z-index: -1;}#sk-container-id-1 div.sk-parallel-item {display: flex;flex-direction: column;z-index: 1;position: relative;background-color: white;}#sk-container-id-1 div.sk-parallel-item:first-child::after {align-self: flex-end;width: 50%;}#sk-container-id-1 div.sk-parallel-item:last-child::after {align-self: flex-start;width: 50%;}#sk-container-id-1 div.sk-parallel-item:only-child::after {width: 0;}#sk-container-id-1 div.sk-dashed-wrapped {border: 1px dashed gray;margin: 0 0.4em 0.5em 0.4em;box-sizing: border-box;padding-bottom: 0.4em;background-color: white;}#sk-container-id-1 div.sk-label label {font-family: monospace;font-weight: bold;display: inline-block;line-height: 1.2em;}#sk-container-id-1 div.sk-label-container {text-align: center;}#sk-container-id-1 div.sk-container {/* jupyter's `normalize.less` sets `[hidden] { display: none; }` but bootstrap.min.css set `[hidden] { display: none !important; }` so we also need the `!important` here to be able to override the default hidden behavior on the sphinx rendered scikit-learn.org. See: https://github.com/scikit-learn/scikit-learn/issues/21755 */display: inline-block !important;position: relative;}#sk-container-id-1 div.sk-text-repr-fallback {display: none;}</style><div id=\"sk-container-id-1\" class=\"sk-top-container\"><div class=\"sk-text-repr-fallback\"><pre>MultinomialNB()</pre><b>In a Jupyter environment, please rerun this cell to show the HTML representation or trust the notebook. <br />On GitHub, the HTML representation is unable to render, please try loading this page with nbviewer.org.</b></div><div class=\"sk-container\" hidden><div class=\"sk-item\"><div class=\"sk-estimator sk-toggleable\"><input class=\"sk-toggleable__control sk-hidden--visually\" id=\"sk-estimator-id-1\" type=\"checkbox\" checked><label for=\"sk-estimator-id-1\" class=\"sk-toggleable__label sk-toggleable__label-arrow\">MultinomialNB</label><div class=\"sk-toggleable__content\"><pre>MultinomialNB()</pre></div></div></div></div></div>"
      ],
      "text/plain": [
       "MultinomialNB()"
      ]
     },
     "execution_count": 15,
     "metadata": {},
     "output_type": "execute_result"
    }
   ],
   "source": [
    "clf = MultinomialNB()\n",
    "clf.fit(X_train_vectorized, y_train)"
   ]
  },
  {
   "cell_type": "code",
   "execution_count": 16,
   "id": "65403822",
   "metadata": {
    "execution": {
     "iopub.execute_input": "2023-10-27T13:21:49.711557Z",
     "iopub.status.busy": "2023-10-27T13:21:49.711143Z",
     "iopub.status.idle": "2023-10-27T13:21:49.740446Z",
     "shell.execute_reply": "2023-10-27T13:21:49.738591Z"
    },
    "papermill": {
     "duration": 0.038123,
     "end_time": "2023-10-27T13:21:49.742863",
     "exception": false,
     "start_time": "2023-10-27T13:21:49.704740",
     "status": "completed"
    },
    "tags": []
   },
   "outputs": [
    {
     "name": "stdout",
     "output_type": "stream",
     "text": [
      "Accuracy: 0.97\n"
     ]
    }
   ],
   "source": [
    "score = clf.score(X_test_vectorized, y_test)\n",
    "print(f\"Accuracy: {score:.2f}\")\n"
   ]
  },
  {
   "cell_type": "code",
   "execution_count": 17,
   "id": "461b41d8",
   "metadata": {
    "execution": {
     "iopub.execute_input": "2023-10-27T13:21:49.754843Z",
     "iopub.status.busy": "2023-10-27T13:21:49.754510Z",
     "iopub.status.idle": "2023-10-27T13:21:49.906745Z",
     "shell.execute_reply": "2023-10-27T13:21:49.905776Z"
    },
    "papermill": {
     "duration": 0.160723,
     "end_time": "2023-10-27T13:21:49.908937",
     "exception": false,
     "start_time": "2023-10-27T13:21:49.748214",
     "status": "completed"
    },
    "tags": []
   },
   "outputs": [],
   "source": [
    "with open('phishing_model3.pkl', 'wb') as f:\n",
    " pickle.dump(clf, f)\n",
    " \n",
    "with open('vectorizer.pkl', 'wb') as f:\n",
    " pickle.dump(vectorizer, f)"
   ]
  },
  {
   "cell_type": "code",
   "execution_count": 18,
   "id": "7eb6a152",
   "metadata": {
    "execution": {
     "iopub.execute_input": "2023-10-27T13:21:49.921186Z",
     "iopub.status.busy": "2023-10-27T13:21:49.920852Z",
     "iopub.status.idle": "2023-10-27T13:21:49.956918Z",
     "shell.execute_reply": "2023-10-27T13:21:49.955595Z"
    },
    "papermill": {
     "duration": 0.044785,
     "end_time": "2023-10-27T13:21:49.959186",
     "exception": false,
     "start_time": "2023-10-27T13:21:49.914401",
     "status": "completed"
    },
    "tags": []
   },
   "outputs": [
    {
     "name": "stdout",
     "output_type": "stream",
     "text": [
      "Confusion Matrix:\n",
      "[[77562  1108]\n",
      " [ 2265 28935]]\n"
     ]
    }
   ],
   "source": [
    "y_pred = clf.predict(X_test_vectorized)\n",
    "cm = confusion_matrix(y_test, y_pred)\n",
    "print(\"Confusion Matrix:\")\n",
    "print(cm)"
   ]
  },
  {
   "cell_type": "code",
   "execution_count": null,
   "id": "13f1ab4e",
   "metadata": {
    "papermill": {
     "duration": 0.005265,
     "end_time": "2023-10-27T13:21:49.970032",
     "exception": false,
     "start_time": "2023-10-27T13:21:49.964767",
     "status": "completed"
    },
    "tags": []
   },
   "outputs": [],
   "source": []
  }
 ],
 "metadata": {
  "kernelspec": {
   "display_name": "Python 3",
   "language": "python",
   "name": "python3"
  },
  "language_info": {
   "codemirror_mode": {
    "name": "ipython",
    "version": 3
   },
   "file_extension": ".py",
   "mimetype": "text/x-python",
   "name": "python",
   "nbconvert_exporter": "python",
   "pygments_lexer": "ipython3",
   "version": "3.10.12"
  },
  "papermill": {
   "default_parameters": {},
   "duration": 13.73643,
   "end_time": "2023-10-27T13:21:50.597731",
   "environment_variables": {},
   "exception": null,
   "input_path": "__notebook__.ipynb",
   "output_path": "__notebook__.ipynb",
   "parameters": {},
   "start_time": "2023-10-27T13:21:36.861301",
   "version": "2.4.0"
  }
 },
 "nbformat": 4,
 "nbformat_minor": 5
}
